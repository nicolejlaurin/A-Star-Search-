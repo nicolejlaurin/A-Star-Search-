{
  "nbformat": 4,
  "nbformat_minor": 0,
  "metadata": {
    "colab": {
      "name": "COMP4106-A1.ipynb",
      "provenance": [],
      "collapsed_sections": [],
      "include_colab_link": true
    },
    "kernelspec": {
      "name": "python3",
      "display_name": "Python 3"
    }
  },
  "cells": [
    {
      "cell_type": "markdown",
      "metadata": {
        "id": "view-in-github",
        "colab_type": "text"
      },
      "source": [
        "<a href=\"https://colab.research.google.com/github/nicolejlaurin/A-Star-Search-/blob/main/COMP4106_A1.ipynb\" target=\"_parent\"><img src=\"https://colab.research.google.com/assets/colab-badge.svg\" alt=\"Open In Colab\"/></a>"
      ]
    },
    {
      "cell_type": "code",
      "metadata": {
        "id": "NGNbybZzGrwd",
        "colab": {
          "base_uri": "https://localhost:8080/"
        },
        "outputId": "2dd3546c-f104-4974-c4ff-d5a3841f80d1"
      },
      "source": [
        "#COMP4106 Assignment 1\r\n",
        "\r\n",
        "class node:\r\n",
        "    def __init__(self, coords, value): #constructor to initilize values for node objects\r\n",
        "        self.coords = coords\r\n",
        "        self.value = value\r\n",
        "        self.pathcost = 0\r\n",
        "        self.totalcost = 0\r\n",
        "        self.adjacent = []\r\n",
        "        self.parent = None\r\n",
        "        self.isExplored = False\r\n",
        "    def __repr__(self):\r\n",
        "        return '(' + ','.join(map(str,self.coords)) + ') : ' + str(list(map(str, self.adjacent)))\r\n",
        "    def __str__(self):\r\n",
        "        return '(' + ','.join(map(str,self.coords)) + ')' \r\n",
        "    def addAdjacent(self, node):      #adds nodes to adjacency list if it is not a wall\r\n",
        "        if node.value != 'X' and node.value != 'x':\r\n",
        "            self.adjacent.append(node)\r\n",
        "\r\n",
        "def pathfinding(CSV, optimal, explored): # calls other functions and writes to the files\r\n",
        "  #initialize empty lists to populate\r\n",
        "  nodeArray = []\r\n",
        "  goalArray = []\r\n",
        "  exploredList = []\r\n",
        "  frontier = []\r\n",
        "\r\n",
        "  startNode = format_grid(CSV, nodeArray, goalArray)  #to format grid from input and get start node\r\n",
        "  goalNode = traverse_grid(startNode, goalArray, frontier, exploredList) #traverse through grid to get goal node\r\n",
        "\r\n",
        "\r\n",
        "  with open(explored, \"w\") as exploredFile:   #writes explored nodes to file and formats it\r\n",
        "    for exp in exploredList:\r\n",
        "      exploredFile.write(str(exp) + '\\n')\r\n",
        "    exploredFile.close()\r\n",
        "  \r\n",
        "  optimalList = [goalNode]\r\n",
        "  currNode = goalNode\r\n",
        "  optimalCost = 0\r\n",
        "\r\n",
        "  while currNode.parent != None:    #determines optimal path from goal to start\r\n",
        "    if currNode.value != 'g' and currNode.value != 'G':\r\n",
        "      optimalCost += int(currNode.value)\r\n",
        "    optimalList.append(currNode.parent)\r\n",
        "    currNode = currNode.parent\r\n",
        "  optimalList.reverse()             #reverse to format nodes start to goal\r\n",
        "\r\n",
        "  with open(optimal, \"w\") as optimalFile:   #writes optimal path nodes to file and formats it\r\n",
        "    for opt in optimalList:\r\n",
        "      optimalFile.write(str(opt) + '\\n')\r\n",
        "    optimalFile.close() \r\n",
        "  return optimalCost          #returns cost of the optimal path\r\n",
        "\r\n",
        "\r\n",
        "\r\n",
        "def traverse_grid(node, goalList, frontier, explored): #function to traverse to other nodes.\r\n",
        "\r\n",
        "\r\n",
        "  explored.append(node)\r\n",
        "  node.isExplored = True\r\n",
        "\r\n",
        "  if node.value == 'g' or node.value == 'G':   #checks if current node is the Goal node\r\n",
        "    return node\r\n",
        "  else:     # if its not a goal node, it iterates through grid\r\n",
        "    for adj in node.adjacent:\r\n",
        "      if adj.pathcost > -1 and not adj.isExplored and pathcost(adj, node) < adj.pathcost: #if node is in frontier and total path cost is less than path cost for adjacent node\r\n",
        "        frontier.remove(adj)\r\n",
        "        #Need to also update entire subtree's pathcosts\r\n",
        "      if adj.pathcost > -1 and adj.isExplored and pathcost(adj, node) < adj.pathcost: #if node is in explored and total path cost is less than path cost for adjacent node\r\n",
        "        adj.isExplored = False\r\n",
        "        explored.remove(adj)\r\n",
        "\r\n",
        "      if not adj.isExplored and not adj in frontier: #checks if node is neither in explored or frontier\r\n",
        "        adj.pathcost = pathcost(adj, node)\r\n",
        "        adj.parent = node\r\n",
        "        adj.totalcost = node_cost(adj, node, goalList)\r\n",
        "        frontier.append(adj)\r\n",
        "\r\n",
        "    frontier = sorted(frontier, key= lambda node : node.totalcost) \r\n",
        "    return traverse_grid(frontier.pop(0), goalList, frontier, explored)\r\n",
        "\r\n",
        "def node_cost(node, parent, goalList): #outputs total cost to traverse to node\r\n",
        "  \r\n",
        "  step_cost = 0\r\n",
        "  if node.value != 'g' and node.value != 'G' \\    #checks node isnt the start or goal node\r\n",
        "    and node.value != 's' and node.value != 'S':\r\n",
        "    step_cost = int(node.value)\r\n",
        "\r\n",
        "  path_cost = pathcost(node,parent)           #gets path cost from node to its parent\r\n",
        "  heuristic_cost = manhattan(node, goalList)  #calculates the heuristic cost\r\n",
        "  return path_cost + heuristic_cost \r\n",
        "\r\n",
        "def pathcost(node, parent): #outputs the path cost from parent node to next node\r\n",
        "  step_cost = 0\r\n",
        "  if node.value != 'g' and node.value != 'G' \\     \r\n",
        "    and node.value != 's' and node.value != 'S':\r\n",
        "    step_cost = int(node.value)\r\n",
        "\r\n",
        "  return parent.pathcost + step_cost\r\n",
        "\r\n",
        "def manhattan(node, goalList):   #heuristic function to calculate distance between 2 nodes\r\n",
        "  goalHeuristics = []\r\n",
        "  for goal in goalList:\r\n",
        "    goalHeuristics.append(abs(node.coords[0] - goal.coords[0]) + abs(node.coords[1] - goal.coords[1]))\r\n",
        "  return min(goalHeuristics)    #returns minimum manhattan distance to any goal node\r\n",
        "\r\n",
        "def format_grid(filePath, nodeArray, goalArray): #gets input text and formats it\r\n",
        "\r\n",
        "\r\n",
        "  #Calculates the adjacent nodes for each spot in the grid and store in array\r\n",
        "  #Output: array of arrays of nodes\r\n",
        "\r\n",
        "  with open(filePath, encoding=\"utf8\") as fp: #Reads the input CSV and creates lists of nodes for traversal \r\n",
        "    row = 0\r\n",
        "    line = fp.readline()\r\n",
        "   \r\n",
        "    while line:\r\n",
        "      nodeArray.append([])\r\n",
        "      processed = line.strip().split(',')   #creates a node for every character in CSV\r\n",
        "      for col in range(0, len(processed)):      #format grid and initialize nodes\r\n",
        "        currnode = node((row, col), processed[col].strip())\r\n",
        "        currnode.pathcost = -1\r\n",
        "        nodeArray[row].append(currnode)\r\n",
        "        if currnode.value == 's' or currnode.value == 'S':\r\n",
        "          currnode.pathcost = 0\r\n",
        "          startNode = currnode                    #initializing start node\r\n",
        "        if currnode.value == 'g' or currnode.value == 'G':\r\n",
        "          goalArray.append(currnode)             #adding goal node to list of all goals\r\n",
        "\r\n",
        "        if col > 0:                         #Setting up adjacency lists of nodes to traverse grid \r\n",
        "          leftnode = nodeArray[row][col-1]\r\n",
        "          leftnode.addAdjacent(currnode)\r\n",
        "          currnode.addAdjacent(leftnode)\r\n",
        "        if row > 0:\r\n",
        "          uppernode = nodeArray[row-1][col]\r\n",
        "          uppernode.addAdjacent(currnode)\r\n",
        "          currnode.addAdjacent(uppernode)\r\n",
        "\r\n",
        "      row += 1\r\n",
        "      line = fp.readline()\r\n",
        "\r\n",
        "  return startNode\r\n",
        "\r\n",
        "\r\n",
        "pathfinding(\"/input.txt\", \"/optimal_path.txt\", \"/explored_list.txt\")"
      ],
      "execution_count": null,
      "outputs": [
        {
          "output_type": "stream",
          "text": [
            "Explored:  [(0,0) : ['(0,1)', '(1,0)'], (0,1) : ['(0,0)', '(0,2)'], (1,0) : ['(0,0)', '(2,0)'], (0,2) : ['(0,1)', '(1,2)'], (1,2) : ['(0,2)', '(1,3)'], (1,3) : ['(1,2)', '(2,3)']]\n",
            "Optimal:  [(0,0) : ['(0,1)', '(1,0)'], (0,1) : ['(0,0)', '(0,2)'], (0,2) : ['(0,1)', '(1,2)'], (1,2) : ['(0,2)', '(1,3)'], (1,3) : ['(1,2)', '(2,3)']]\n"
          ],
          "name": "stdout"
        },
        {
          "output_type": "execute_result",
          "data": {
            "text/plain": [
              "6"
            ]
          },
          "metadata": {
            "tags": []
          },
          "execution_count": 38
        }
      ]
    },
    {
      "cell_type": "code",
      "metadata": {
        "id": "xjpVM6iePNB4"
      },
      "source": [
        "def traverse_grid(node, goalList, frontier, explored): #function to traverse to other nodes.\r\n",
        "\r\n",
        "# Does this work on a 2d grid when we can have a root top, bottom, left and right?\r\n",
        "# keep track of coordinates\r\n",
        "# build up frontier\r\n",
        "# create a priority queue of nodes to visit\r\n",
        "\r\n",
        "  #goal = grid(\"G\")\r\n",
        "  #heap = hq.heapify([node])\r\n",
        "\r\n",
        "  explored.append(node)\r\n",
        "  node.isExplored = True\r\n",
        "\r\n",
        "  if node.value == 'g' or node.value == 'G':\r\n",
        "    return node\r\n",
        "  else:\r\n",
        "    for adj in node.adjacent:\r\n",
        "      if adj.pathcost > -1 and not adj.isExplored and pathcost(adj, node) < adj.pathcost:\r\n",
        "        frontier.remove(adj)\r\n",
        "        #Need to also update entire subtree's pathcosts\r\n",
        "      if adj.pathcost > -1 and adj.isExplored and pathcost(adj, node) < adj.pathcost:\r\n",
        "        adj.isExplored = False\r\n",
        "        explored.remove(adj)\r\n",
        "\r\n",
        "      if not adj.isExplored and not adj in frontier:\r\n",
        "        adj.pathcost = pathcost(adj, node)\r\n",
        "        adj.parent = node\r\n",
        "        adj.totalcost = node_cost(adj, node, goalList)\r\n",
        "        frontier.append(adj)\r\n",
        "\r\n",
        "    frontier = sorted(frontier, key= lambda node : node.totalcost)\r\n",
        "    return traverse_grid(frontier.pop(0), goalList, frontier, explored)"
      ],
      "execution_count": null,
      "outputs": []
    },
    {
      "cell_type": "code",
      "metadata": {
        "id": "UUfUP5qlPcOX"
      },
      "source": [
        "def addToFrontier(node):\r\n",
        "#adds a node to the frontier for later exploration\r\n",
        "#only adds node if not already explored (check bool)\r\n",
        "#Updates node if already on the frontier.\r\n"
      ],
      "execution_count": null,
      "outputs": []
    },
    {
      "cell_type": "code",
      "metadata": {
        "id": "H5-6HH65PXwx"
      },
      "source": [
        "def pathfinding(CSV, optimal, explored):\r\n",
        "# call all functions and write to the files\r\n",
        "  nodeArray = []\r\n",
        "  startNode = None\r\n",
        "  goalArray = []\r\n",
        "  format_grid(CSV, nodeArray, startNode, goalArray)\r\n",
        "  explored = []\r\n",
        "  frontier = []\r\n",
        "  goalNode = traverse_grid(startNode, goalArray, frontier, explored)"
      ],
      "execution_count": null,
      "outputs": []
    },
    {
      "cell_type": "code",
      "metadata": {
        "id": "tNOmW-4uPT7y",
        "colab": {
          "base_uri": "https://localhost:8080/"
        },
        "outputId": "c753b225-25b1-44ae-a28f-9e65916d9201"
      },
      "source": [
        "def node_cost(node, parent, goalList):\r\n",
        "#output cost to traverse to node\r\n",
        "  \r\n",
        "#The total cost of exploring the node\r\n",
        "#Depends on the path taken to the node\r\n",
        "#need to get lowest F value (node.left vs node.right)\r\n",
        "# F = G + H\r\n",
        "# g = the movement cost to move from S to a given square on the grid, following the path generated to get there. \r\n",
        "# h = the estimated movement cost to move from that given square on the grid to goal\r\n",
        "#goal nodes stored in an array for easy access by h function\r\n",
        "\r\n",
        "  step_cost = 0\r\n",
        "  if node.value != 'g' and node.value != 'G' \\\r\n",
        "    and node.value != 's' and node.value != 'S':\r\n",
        "    step_cost = int(node.value)\r\n",
        "\r\n",
        "  path_cost = pathcost(node,parent)\r\n",
        "  # print(path_cost)\r\n",
        "  heuristic_cost = manhattan(node, goalList)\r\n",
        "  return path_cost + heuristic_cost\r\n",
        "\r\n",
        "currnode = node((1,2), 5)\r\n",
        "parentnode = node((1,1), 3)\r\n",
        "parentnode.pathcost = 12\r\n",
        "goalList = [node((8,6), 'G'), node((5,3), 'G'), node((12,7), 'G')]\r\n",
        "node_cost(currnode, parentnode, goalList)\r\n"
      ],
      "execution_count": null,
      "outputs": [
        {
          "output_type": "execute_result",
          "data": {
            "text/plain": [
              "22"
            ]
          },
          "metadata": {
            "tags": []
          },
          "execution_count": 35
        }
      ]
    },
    {
      "cell_type": "code",
      "metadata": {
        "colab": {
          "base_uri": "https://localhost:8080/"
        },
        "id": "fulXYU0QZ-sV",
        "outputId": "f00b24c6-8c81-4680-a529-74417cd3cf09"
      },
      "source": [
        "def pathcost(node, parent):\r\n",
        "  step_cost = 0\r\n",
        "  if node.value != 'g' and node.value != 'G' \\\r\n",
        "    and node.value != 's' and node.value != 'S':\r\n",
        "    step_cost = int(node.value)\r\n",
        "\r\n",
        "  return parent.pathcost + step_cost\r\n",
        "\r\n",
        "currnode = node((1,2), 5)\r\n",
        "parentnode = node((1,1), 3)\r\n",
        "parentnode.pathcost = 12\r\n",
        "pathcost(currnode, parentnode)"
      ],
      "execution_count": null,
      "outputs": [
        {
          "output_type": "execute_result",
          "data": {
            "text/plain": [
              "17"
            ]
          },
          "metadata": {
            "tags": []
          },
          "execution_count": 9
        }
      ]
    },
    {
      "cell_type": "code",
      "metadata": {
        "colab": {
          "base_uri": "https://localhost:8080/"
        },
        "id": "Y6U7Q3enllEE",
        "outputId": "3fdfac5d-ba6c-4d43-b107-8eeb6d5b31d6"
      },
      "source": [
        "def manhattan(node, goalList):\r\n",
        "  goalHeuristics = []\r\n",
        "  for goal in goalList:\r\n",
        "    goalHeuristics.append(abs(node.coords[0] - goal.coords[0]) + abs(node.coords[1] - goal.coords[1]))\r\n",
        "  return min(goalHeuristics)\r\n",
        "\r\n",
        "manhattan(node((0,0),3), [node((3,5), 'G')])"
      ],
      "execution_count": null,
      "outputs": [
        {
          "output_type": "execute_result",
          "data": {
            "text/plain": [
              "24"
            ]
          },
          "metadata": {
            "tags": []
          },
          "execution_count": 33
        }
      ]
    },
    {
      "cell_type": "code",
      "metadata": {
        "id": "eoUSOvifOeZE"
      },
      "source": [
        "class node:\r\n",
        "    def __init__(self, coords, value):\r\n",
        "        self.coords = coords\r\n",
        "        self.value = value\r\n",
        "        self.pathcost = 0\r\n",
        "        self.totalcost = 0\r\n",
        "        self.adjacent = []\r\n",
        "        self.parent = None\r\n",
        "        self.isExplored = False\r\n",
        "    def __repr__(self):\r\n",
        "        return '(' + ','.join(map(str,self.coords)) + ') : ' + str(list(map(str, self.adjacent)))\r\n",
        "    def __str__(self):\r\n",
        "        return '(' + ','.join(map(str,self.coords)) + ')'\r\n",
        "    def addAdjacent(self, node):\r\n",
        "        if node.value != 'X' and node.value != 'x':\r\n",
        "            self.adjacent.append(node)"
      ],
      "execution_count": null,
      "outputs": []
    },
    {
      "cell_type": "code",
      "metadata": {
        "id": "cv7nJyhkLZ6K",
        "colab": {
          "base_uri": "https://localhost:8080/"
        },
        "outputId": "2cb43942-7045-4463-8719-876e791a0687"
      },
      "source": [
        "\r\n",
        "def format_grid(filePath, nodeArray, goalArray): #gets input text and formats it\r\n",
        "\r\n",
        "\r\n",
        "  #Reads the input csv creates data structure for traversal. Outputs populated data structure.\r\n",
        "  #Calculates the adjacent nodes for each spot in the grid and store in array\r\n",
        "  #Output: array of arrays of nodes\r\n",
        "\r\n",
        "  with open(filePath, encoding=\"utf8\") as fp:\r\n",
        "    row = 0\r\n",
        "    line = fp.readline()\r\n",
        "    while line:\r\n",
        "\r\n",
        "      nodeArray.append([])\r\n",
        "      processed = line.strip().split(',')\r\n",
        "      for col in range(0, len(processed)):\r\n",
        "        currnode = node((row, col), processed[col].strip())\r\n",
        "        currnode.pathcost = -1\r\n",
        "        nodeArray[row].append(currnode)\r\n",
        "        if currnode.value == 's' or currnode.value == 'S':\r\n",
        "          currnode.pathcost = 0\r\n",
        "          startNode = currnode\r\n",
        "        if currnode.value == 'g' or currnode.value == 'G':\r\n",
        "          goalArray.append(currnode)\r\n",
        "\r\n",
        "        if col > 0:\r\n",
        "          leftnode = nodeArray[row][col-1]\r\n",
        "          leftnode.addAdjacent(currnode)\r\n",
        "          currnode.addAdjacent(leftnode)\r\n",
        "        if row > 0:\r\n",
        "          uppernode = nodeArray[row-1][col]\r\n",
        "          uppernode.addAdjacent(currnode)\r\n",
        "          currnode.addAdjacent(uppernode)\r\n",
        "\r\n",
        "      row += 1\r\n",
        "      line = fp.readline()\r\n",
        "\r\n",
        "  # print(nodeArray[1][0].adjacent)\r\n",
        "  return startNode\r\n",
        "\r\n",
        "x = None\r\n",
        "nodeArray = []\r\n",
        "goalArray = []\r\n",
        "start = format_grid('/input.txt', nodeArray, goalArray)\r\n",
        "print(nodeArray)\r\n",
        "print(start)\r\n",
        "print(goalArray)"
      ],
      "execution_count": null,
      "outputs": [
        {
          "output_type": "stream",
          "text": [
            "[[(0,0) : ['(0,1)', '(1,0)'], (0,1) : ['(0,0)', '(0,2)', '(1,1)'], (0,2) : ['(0,1)', '(0,3)', '(1,2)'], (0,3) : ['(0,2)', '(0,4)'], (0,4) : ['(0,3)', '(1,4)']], [(1,0) : ['(0,0)', '(1,1)', '(2,0)'], (1,1) : ['(1,0)', '(0,1)', '(1,2)', '(2,1)'], (1,2) : ['(1,1)', '(0,2)', '(2,2)'], (1,3) : ['(1,2)', '(0,3)', '(1,4)'], (1,4) : ['(0,4)', '(2,4)']], [(2,0) : ['(1,0)', '(2,1)', '(3,0)'], (2,1) : ['(2,0)', '(1,1)', '(2,2)'], (2,2) : ['(2,1)', '(1,2)'], (2,3) : ['(2,2)', '(2,4)'], (2,4) : ['(1,4)', '(3,4)']], [(3,0) : ['(2,0)', '(4,0)'], (3,1) : ['(3,0)', '(2,1)', '(4,1)'], (3,2) : ['(2,2)', '(4,2)'], (3,3) : ['(3,4)', '(4,3)'], (3,4) : ['(2,4)', '(4,4)']], [(4,0) : ['(3,0)', '(4,1)'], (4,1) : ['(4,0)', '(4,2)'], (4,2) : ['(4,1)', '(4,3)'], (4,3) : ['(4,2)', '(4,4)'], (4,4) : ['(4,3)', '(3,4)']]]\n",
            "((2,2) : ['(2,1)', '(1,2)'], 3)\n",
            "[(4,4) : ['(4,3)', '(3,4)']]\n"
          ],
          "name": "stdout"
        }
      ]
    }
  ]
}